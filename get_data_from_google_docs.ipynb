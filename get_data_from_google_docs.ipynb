{
 "cells": [
  {
   "cell_type": "code",
   "execution_count": 1,
   "id": "295c394e-f719-4867-85ce-530c0e94a276",
   "metadata": {},
   "outputs": [],
   "source": [
    "import pandas as pd\n",
    "import numpy as np\n",
    "import requests\n",
    "from io import BytesIO\n",
    "import config\n",
    "from parse_functions import *\n",
    "# ссылка на основной файл гугл докс (на каждом лите отдельный клиент со ссылками на файлы с данными)\n",
    "base_link = config.base_link\n"
   ]
  },
  {
   "cell_type": "code",
   "execution_count": 2,
   "id": "57e5fadd-4cd4-4575-a393-e1e3d61bddfa",
   "metadata": {},
   "outputs": [],
   "source": [
    "# Включаем отображение всех колонок\n",
    "pd.set_option('display.max_columns', None)\n",
    "# Задаем ширину столбцов по контенту\n",
    "pd.set_option('display.max_colwidth', None)\n",
    "pd.set_option('display.max_rows', None)\n",
    "pd.options.mode.chained_assignment = None"
   ]
  },
  {
   "cell_type": "code",
   "execution_count": null,
   "id": "38e36b2b-6c81-4c94-82d1-bc95bf923ddd",
   "metadata": {},
   "outputs": [],
   "source": []
  },
  {
   "cell_type": "code",
   "execution_count": 3,
   "id": "7bf4d937-6232-4c15-894f-e419583025d4",
   "metadata": {},
   "outputs": [],
   "source": [
    "# функция, которая на входе принимает 1 строку из основного датаФрейма\n",
    "# строка содержит название отчета и ссылку на гугл докс с данными\n",
    "# name - название клиента\n",
    "# report - название отчета\n",
    "def get_parse_reports(df, name, report):\n",
    "    # т.к. в одном гугл доксе может быть много отчетов на разных листах, мы создаем словарь\n",
    "    tmp_dict = {}\n",
    "    # забираем ссылку на гугл докс, из нее получаем ИД и забираем данные \n",
    "    content = get_data_from_sheet(df['report_link'][0])\n",
    "    # проверяем - если есть доступк к гугл доксу, то запускаем парсинг данных\n",
    "    # но может прийти ошибка, если НЕТ общего доступа\n",
    "    try:\n",
    "        # забираем названия листов в гугл доксе\n",
    "        target_sheet_names = pd.ExcelFile(content)\n",
    "        # проходим через цикл по названиям всех листов\n",
    "        for target_sheet in target_sheet_names.sheet_names:\n",
    "            # если в названиии листа есть слово чек-лист, то вызываем функцию для парсинга данных\n",
    "            if 'чек-лист' in target_sheet.lower():\n",
    "                # final_df = parse_check_list_report(content, target_sheet, name)\n",
    "                # для отчетов калиниград ключом является название отчета из основного файла\n",
    "                if 'калининград' in name.lower():\n",
    "                    tmp_dict[report] = parse_check_list_report(content, target_sheet, name, report)\n",
    "                else:\n",
    "                # для всех остальных ключ - это название листа\n",
    "                    tmp_name = str(target_sheet).lower()\n",
    "                    print(tmp_name)\n",
    "                    tmp_dict[tmp_name] = parse_check_list_report(content, target_sheet, name, report)\n",
    "            # для отчетов СРМ забираем данные только с листа Показатели\n",
    "            if 'срм' in report.lower() and target_sheet.lower()=='показатели':\n",
    "                tmp_dict[report] = parse_crm_report(content, target_sheet, name, report)\n",
    "                \n",
    "            # для списка Сотрудников забираем данные только с листа Показатели    \n",
    "            if 'сотрудники' in report.lower() and target_sheet.lower()=='компании':\n",
    "                tmp_dict[report] = parse_employees_report(content, target_sheet, name, report)\n",
    "\n",
    "            if 'цели' in report.lower():\n",
    "                report_name = report + '_' + target_sheet.lower() \n",
    "                tmp_dict[report_name] = parse_targets_plan_report(content, target_sheet, name, report_name)\n",
    "            \n",
    "        return tmp_dict\n",
    "    # если доступа нет, то возвращаем инфо -к какому отчету НЕ получилось подключиться\n",
    "    except:\n",
    "        print(f'Нет доступа к файлу: Клиента - {name} / Отчет: {report}')"
   ]
  },
  {
   "cell_type": "code",
   "execution_count": 4,
   "id": "baed43fa-8848-47ce-85c5-436202d1316b",
   "metadata": {},
   "outputs": [],
   "source": [
    "# забираем данные из основной управленческой таблицы\n",
    "content = get_data_from_sheet(base_link)\n",
    "sheet_names = pd.ExcelFile(content)"
   ]
  },
  {
   "cell_type": "code",
   "execution_count": 5,
   "id": "a16b9b17-24ad-4ff8-8a54-5a49aabee544",
   "metadata": {},
   "outputs": [
    {
     "data": {
      "text/plain": [
       "['Калининград МореАвто(ЮтоКарс)', 'Екатеринбург АтлантикПРО', 'АвтоБелогорье']"
      ]
     },
     "execution_count": 5,
     "metadata": {},
     "output_type": "execute_result"
    }
   ],
   "source": [
    "sheet_names.sheet_names"
   ]
  },
  {
   "cell_type": "code",
   "execution_count": 6,
   "id": "c9b9795e-949f-47d6-b435-6ed68e500677",
   "metadata": {},
   "outputs": [
    {
     "name": "stdout",
     "output_type": "stream",
     "text": [
      "чек-лист калининград ап\n",
      "чек-лист калининград оп\n",
      "чек-лист калининград выкуп\n",
      "чек-лист калининград парсинг\n",
      "срм ап\n",
      "срм оп\n",
      "Калининград МореАвто(ЮтоКарс)_цели\n",
      "цели\n",
      "сотрудники\n",
      "чек-лист\n",
      "чек-лист ап\n",
      "чек-лист чаты-звонки\n",
      "чек-лист комиссия\n",
      "чек-лист чаты\n",
      "срм чаты_звонки\n",
      "Екатеринбург АтлантикПРО_цели\n",
      "цели\n",
      "сотрудники\n",
      "срм ап\n",
      "чек-лист автобелогорье\n",
      "чек-лист оп exeed белгород\n",
      "чек-лист оп faw_jac белгород\n",
      "чек-лист оп omoda_jaecoo старый\n",
      "чек-лист оп jetour старый оскол\n",
      "чек-лист оп лада белгород\n",
      "чек-лист ап\n",
      "АвтоБелогорье_цели\n",
      "цели\n",
      "сотрудники\n",
      "срм лада\n",
      "срм джетур\n",
      "срм омода\n",
      "срм фав\n",
      "Нет доступа к файлу: Клиента - АвтоБелогорье / Отчет: срм фав\n",
      "срм эксид\n"
     ]
    }
   ],
   "source": [
    "# создаем словарь, в который сохраним результаты парсинга всех отчетов\n",
    "tmp_reports_dict = {}\n",
    "# проходим через цикл по всем листам в управленческой таблице\n",
    "for name in sheet_names.sheet_names:\n",
    "    # print(name)\n",
    "    \n",
    "    cols_range = 'A:B' # задаем диапазон полей, которые нам нужны\n",
    "    df = pd.read_excel(content, sheet_name=name, usecols=cols_range, names=['report_name', 'report_link'])\n",
    "    # нормализуем назания отчетов - приводим в нижний регистр, обрезаем по краям, избаляемся от технических символов(перенос строки и тд)\n",
    "    df['report_name'] = df['report_name'].str.lower().str.strip().str.replace('\\n', ' ')\n",
    "    # создаем отдельный список с названиями отчетов и проодим по нему через цикл\n",
    "    reports_list = list(df['report_name'])\n",
    "    # запускаем блок парсинга отчетов\n",
    "    for report in reports_list:\n",
    "        parse_info = df[df['report_name']==report].reset_index(drop=True)\n",
    "   \n",
    "        # создаем спец. ключ для словаря\n",
    "        key = name + '_' + report\n",
    "        \n",
    "        if 'чек' in report.lower():\n",
    "            print(report)\n",
    "            tmp_reports_dict[key] = get_parse_reports(parse_info, name, report)\n",
    "            # if 'калининград' in name.lower():\n",
    "            #     print(report)\n",
    "            #     tmp_reports_dict[report] = get_parse_reports(parse_info, name, report) \n",
    "            # else:\n",
    "            #     tmp_reports_dict[name] = get_parse_reports(parse_info, name, report)\n",
    "        # запускаем блок парсинга отчетов с данными CRM\n",
    "        if 'срм' in report.lower():\n",
    "            print(report)\n",
    "            tmp_reports_dict[key] = get_parse_reports(parse_info, name, report)\n",
    "\n",
    "        if 'сотрудники' in report.lower():\n",
    "            print(report)\n",
    "            tmp_reports_dict[key] = get_parse_reports(parse_info, name, report)\n",
    "        if 'цели' in report.lower():\n",
    "            print(key)\n",
    "            tmp_reports_dict[key] = get_parse_reports(parse_info, name, report)\n"
   ]
  },
  {
   "cell_type": "code",
   "execution_count": 7,
   "id": "06da1ec2-dc1e-4b20-9553-6ff697564d7e",
   "metadata": {},
   "outputs": [
    {
     "name": "stdout",
     "output_type": "stream",
     "text": [
      "Калининград МореАвто(ЮтоКарс)_чек-лист калининград ап\n",
      "Калининград МореАвто(ЮтоКарс)_чек-лист калининград оп\n",
      "Калининград МореАвто(ЮтоКарс)_чек-лист калининград выкуп\n",
      "Калининград МореАвто(ЮтоКарс)_чек-лист калининград парсинг\n",
      "Калининград МореАвто(ЮтоКарс)_срм ап\n",
      "Калининград МореАвто(ЮтоКарс)_срм оп\n",
      "Калининград МореАвто(ЮтоКарс)_цели\n",
      "Калининград МореАвто(ЮтоКарс)_сотрудники\n",
      "Екатеринбург АтлантикПРО_чек-лист\n",
      "Екатеринбург АтлантикПРО_срм чаты_звонки\n",
      "Екатеринбург АтлантикПРО_цели\n",
      "Екатеринбург АтлантикПРО_сотрудники\n",
      "Екатеринбург АтлантикПРО_срм ап\n",
      "АвтоБелогорье_чек-лист автобелогорье\n",
      "АвтоБелогорье_цели\n",
      "АвтоБелогорье_сотрудники\n",
      "АвтоБелогорье_срм лада\n",
      "АвтоБелогорье_срм джетур\n",
      "АвтоБелогорье_срм омода\n",
      "АвтоБелогорье_срм фав\n",
      "АвтоБелогорье_срм эксид\n"
     ]
    }
   ],
   "source": [
    "for key in tmp_reports_dict.keys():\n",
    "    print(key)"
   ]
  },
  {
   "cell_type": "code",
   "execution_count": 10,
   "id": "d0873caa-95a1-4de4-96af-3dda05674ba9",
   "metadata": {},
   "outputs": [
    {
     "name": "stdout",
     "output_type": "stream",
     "text": [
      "срм ап\n"
     ]
    }
   ],
   "source": [
    "for key in tmp_reports_dict['Екатеринбург АтлантикПРО_срм ап'].keys():\n",
    "    print(key)"
   ]
  },
  {
   "cell_type": "code",
   "execution_count": 11,
   "id": "288594ba-0688-45fd-92d3-d43e8665103a",
   "metadata": {},
   "outputs": [
    {
     "data": {
      "text/html": [
       "<div>\n",
       "<style scoped>\n",
       "    .dataframe tbody tr th:only-of-type {\n",
       "        vertical-align: middle;\n",
       "    }\n",
       "\n",
       "    .dataframe tbody tr th {\n",
       "        vertical-align: top;\n",
       "    }\n",
       "\n",
       "    .dataframe thead th {\n",
       "        text-align: right;\n",
       "    }\n",
       "</style>\n",
       "<table border=\"1\" class=\"dataframe\">\n",
       "  <thead>\n",
       "    <tr style=\"text-align: right;\">\n",
       "      <th></th>\n",
       "      <th>дата</th>\n",
       "      <th>команда</th>\n",
       "      <th>кол-во лидов</th>\n",
       "      <th>кол-во согласившихся на визит</th>\n",
       "      <th>кол-во состоявшихся визитов</th>\n",
       "      <th>client</th>\n",
       "      <th>dashboard</th>\n",
       "    </tr>\n",
       "  </thead>\n",
       "  <tbody>\n",
       "    <tr>\n",
       "      <th>0</th>\n",
       "      <td>2024-07-01</td>\n",
       "      <td>Репина, 13</td>\n",
       "      <td></td>\n",
       "      <td></td>\n",
       "      <td></td>\n",
       "      <td>Екатеринбург АтлантикПРО</td>\n",
       "      <td>срм ап</td>\n",
       "    </tr>\n",
       "    <tr>\n",
       "      <th>1</th>\n",
       "      <td>2024-08-07</td>\n",
       "      <td>Таганская, 77</td>\n",
       "      <td>6</td>\n",
       "      <td></td>\n",
       "      <td>2</td>\n",
       "      <td>Екатеринбург АтлантикПРО</td>\n",
       "      <td>срм ап</td>\n",
       "    </tr>\n",
       "    <tr>\n",
       "      <th>2</th>\n",
       "      <td>2024-08-07</td>\n",
       "      <td>Репина, 13</td>\n",
       "      <td></td>\n",
       "      <td></td>\n",
       "      <td></td>\n",
       "      <td>Екатеринбург АтлантикПРО</td>\n",
       "      <td>срм ап</td>\n",
       "    </tr>\n",
       "    <tr>\n",
       "      <th>3</th>\n",
       "      <td>2024-08-08</td>\n",
       "      <td>Таганская, 77</td>\n",
       "      <td>12</td>\n",
       "      <td></td>\n",
       "      <td>3</td>\n",
       "      <td>Екатеринбург АтлантикПРО</td>\n",
       "      <td>срм ап</td>\n",
       "    </tr>\n",
       "    <tr>\n",
       "      <th>4</th>\n",
       "      <td>2024-08-08</td>\n",
       "      <td>Репина, 13</td>\n",
       "      <td></td>\n",
       "      <td></td>\n",
       "      <td></td>\n",
       "      <td>Екатеринбург АтлантикПРО</td>\n",
       "      <td>срм ап</td>\n",
       "    </tr>\n",
       "  </tbody>\n",
       "</table>\n",
       "</div>"
      ],
      "text/plain": [
       "0        дата        команда кол-во лидов кол-во согласившихся на визит  \\\n",
       "0  2024-07-01     Репина, 13                                              \n",
       "1  2024-08-07  Таганская, 77            6                                 \n",
       "2  2024-08-07     Репина, 13                                              \n",
       "3  2024-08-08  Таганская, 77           12                                 \n",
       "4  2024-08-08     Репина, 13                                              \n",
       "\n",
       "0 кол-во состоявшихся визитов                    client dashboard  \n",
       "0                              Екатеринбург АтлантикПРО    срм ап  \n",
       "1                           2  Екатеринбург АтлантикПРО    срм ап  \n",
       "2                              Екатеринбург АтлантикПРО    срм ап  \n",
       "3                           3  Екатеринбург АтлантикПРО    срм ап  \n",
       "4                              Екатеринбург АтлантикПРО    срм ап  "
      ]
     },
     "execution_count": 11,
     "metadata": {},
     "output_type": "execute_result"
    }
   ],
   "source": [
    "tmp_reports_dict['Екатеринбург АтлантикПРО_срм ап']['срм ап'].head()"
   ]
  },
  {
   "cell_type": "code",
   "execution_count": null,
   "id": "f7cb20cb-3eb0-43c0-b5b0-1fcf581db0b4",
   "metadata": {},
   "outputs": [],
   "source": []
  },
  {
   "cell_type": "code",
   "execution_count": null,
   "id": "a59623ca-24ac-424e-952d-4f1de063d9c6",
   "metadata": {},
   "outputs": [],
   "source": []
  },
  {
   "cell_type": "code",
   "execution_count": null,
   "id": "7db25ab1-27c9-46e7-afa3-d3d97743e075",
   "metadata": {},
   "outputs": [],
   "source": []
  },
  {
   "cell_type": "code",
   "execution_count": null,
   "id": "7593bbe2-d547-42b5-ace9-e54b39f9cf28",
   "metadata": {},
   "outputs": [],
   "source": [
    "tmp_reports_dict['Екатеринбург АтлантикПРО_срм ап']['срм ап'].head()"
   ]
  },
  {
   "cell_type": "code",
   "execution_count": null,
   "id": "3b6efe89-5f10-4cd0-b940-32c9f1734020",
   "metadata": {},
   "outputs": [],
   "source": []
  },
  {
   "cell_type": "code",
   "execution_count": null,
   "id": "d2e9e8e2-547c-4cb7-a619-832838dd5c3e",
   "metadata": {},
   "outputs": [],
   "source": [
    "tmp_reports_dict['Калининград МореАвто(ЮтоКарс)_чек-лист калининград ап']['чек-лист калининград ап'].head(3)"
   ]
  },
  {
   "cell_type": "code",
   "execution_count": null,
   "id": "9ef9ab3a-b0e7-4530-aca7-4ffbcc044f91",
   "metadata": {},
   "outputs": [],
   "source": [
    "tmp_reports_dict['АвтоБелогорье_сотрудники']['сотрудники'].head(3)"
   ]
  },
  {
   "cell_type": "code",
   "execution_count": null,
   "id": "1282f708-68c0-49b5-8b01-51ce538d9c57",
   "metadata": {},
   "outputs": [],
   "source": [
    "for key in tmp_reports_dict['Калининград МореАвто(ЮтоКарс)_цели'].keys():\n",
    "    print(key)"
   ]
  },
  {
   "cell_type": "code",
   "execution_count": null,
   "id": "26c318ca-595f-4d82-9bae-ca86798ef04a",
   "metadata": {},
   "outputs": [],
   "source": [
    "tmp_reports_dict['Калининград МореАвто(ЮтоКарс)_цели']['цели_ап']"
   ]
  },
  {
   "cell_type": "code",
   "execution_count": null,
   "id": "6838945b-aed9-48e6-b577-d9eb60238e3c",
   "metadata": {},
   "outputs": [],
   "source": []
  },
  {
   "cell_type": "code",
   "execution_count": null,
   "id": "d17ce573-b692-434c-acad-36e1c197c4f9",
   "metadata": {},
   "outputs": [],
   "source": []
  },
  {
   "cell_type": "code",
   "execution_count": null,
   "id": "c2043f2e-78b8-437f-8176-bff2510e7ef0",
   "metadata": {},
   "outputs": [],
   "source": [
    "sheet_names.sheet_names"
   ]
  },
  {
   "cell_type": "code",
   "execution_count": null,
   "id": "f9d69b0e-8e27-4392-9d8f-cc4640ef087a",
   "metadata": {},
   "outputs": [],
   "source": [
    "for name in sheet_names.sheet_names:\n",
    "   \n",
    "    if 'калининград' in name.lower():\n",
    "        print(name)\n",
    "        cols_range = 'A:B' # задаем диапазон полей, которые нам нужны\n",
    "        df = pd.read_excel(content, sheet_name=name, usecols=cols_range, names=['report_name', 'report_link'])\n",
    "        # нормализуем назания отчетов - приводим в нижний регистр, обрезаем по краям, избаляемся от технических символов(перенос строки и тд)\n",
    "        df['report_name'] = df['report_name'].str.lower().str.strip().str.replace('\\n', ' ')\n",
    "        # создаем отдельный список с названиями отчетов и проодим по нему через цикл\n",
    "        reports_list = list(df['report_name'])\n",
    "        for report in reports_list:\n",
    "            if 'сотрудники' in report.lower():\n",
    "                print(report)\n",
    "                parse_info = df[df['report_name']==report].reset_index(drop=True)"
   ]
  },
  {
   "cell_type": "code",
   "execution_count": null,
   "id": "a3eca7c0-bde4-40a1-9c9b-2d3575918671",
   "metadata": {},
   "outputs": [],
   "source": [
    "parse_info"
   ]
  },
  {
   "cell_type": "code",
   "execution_count": null,
   "id": "65d0b927-03ba-4dcf-b789-943cf352beda",
   "metadata": {},
   "outputs": [],
   "source": [
    "google_link = parse_info['report_link'][0]"
   ]
  },
  {
   "cell_type": "code",
   "execution_count": null,
   "id": "409b2693-5320-4c41-bbf5-543b4e611ade",
   "metadata": {},
   "outputs": [],
   "source": [
    "start_index = str(google_link).find('/d/')\n",
    "end_index = str(google_link).find('/edit?')\n",
    "spreadsheetId = google_link[start_index+3:end_index]"
   ]
  },
  {
   "cell_type": "code",
   "execution_count": null,
   "id": "c48ab408-b6e0-4a39-b26a-61d30f9d06eb",
   "metadata": {},
   "outputs": [],
   "source": [
    " # забираем ссылку на гугл докс, из нее получаем ИД и забираем данные \n",
    "content = get_data_from_sheet(parse_info['report_link'][0])\n",
    "# забираем названия листов в гугл доксе\n",
    "target_sheet_names = pd.ExcelFile(content)"
   ]
  },
  {
   "cell_type": "code",
   "execution_count": null,
   "id": "2200c592-26e5-456e-ac59-0797136f781f",
   "metadata": {},
   "outputs": [],
   "source": [
    "target_sheet_names.sheet_names"
   ]
  },
  {
   "cell_type": "code",
   "execution_count": null,
   "id": "679cd3f5-447b-401e-89e7-179401eee08f",
   "metadata": {},
   "outputs": [],
   "source": [
    "for target_sheet in target_sheet_names.sheet_names:\n",
    "    # если в названиии листа есть слово чек-лист, то вызываем функцию для парсинга данных\n",
    "    if 'компании' in target_sheet.lower():\n",
    "        print(target_sheet)"
   ]
  },
  {
   "cell_type": "code",
   "execution_count": null,
   "id": "2b674161-4965-490c-922b-c7cd15a36d0c",
   "metadata": {},
   "outputs": [],
   "source": []
  },
  {
   "cell_type": "code",
   "execution_count": null,
   "id": "251a3cef-9b4d-4906-8072-6bd50b62816c",
   "metadata": {},
   "outputs": [],
   "source": [
    "target_sheet = 'Компании'\n",
    "df_tmp = pd.read_excel(content, sheet_name=target_sheet, header=None)\n",
    "df_tmp = df_tmp.fillna('')\n",
    "df_tmp.columns = df_tmp.iloc[0].str.lower().str.strip().str.replace('\\n', ' ') # забираем название полей из файла\n",
    "df_tmp = df_tmp.iloc[1:]\n",
    "df_tmp = df_tmp[df_tmp['фио']!='']\n",
    "df_tmp = df_tmp.reset_index(drop=True)"
   ]
  },
  {
   "cell_type": "code",
   "execution_count": null,
   "id": "6646f67d-824a-427d-92ee-423f3b1549a1",
   "metadata": {},
   "outputs": [],
   "source": [
    "df_tmp"
   ]
  },
  {
   "cell_type": "code",
   "execution_count": null,
   "id": "50ebb0a8-facf-48ce-ab67-83b1d6afe20b",
   "metadata": {},
   "outputs": [],
   "source": []
  },
  {
   "cell_type": "code",
   "execution_count": null,
   "id": "609826df-41d0-4d36-8128-ab18bae7529c",
   "metadata": {},
   "outputs": [],
   "source": []
  },
  {
   "cell_type": "code",
   "execution_count": null,
   "id": "eda46900-4877-49b0-a967-5f06a6450fe2",
   "metadata": {},
   "outputs": [],
   "source": [
    "df_tmp"
   ]
  },
  {
   "cell_type": "code",
   "execution_count": null,
   "id": "2e3a1625-ef2c-44ac-9867-24e9c3d2b0fe",
   "metadata": {},
   "outputs": [],
   "source": []
  },
  {
   "cell_type": "code",
   "execution_count": null,
   "id": "a35dd354-019e-42a3-9f60-7caeaa985291",
   "metadata": {},
   "outputs": [],
   "source": []
  },
  {
   "cell_type": "code",
   "execution_count": null,
   "id": "da5a1852-f92c-4091-ab63-317eaa8db862",
   "metadata": {},
   "outputs": [],
   "source": []
  },
  {
   "cell_type": "code",
   "execution_count": null,
   "id": "f0b78698-0127-4b05-9152-d26f0b0a8482",
   "metadata": {},
   "outputs": [],
   "source": []
  },
  {
   "cell_type": "code",
   "execution_count": null,
   "id": "fd7c3393-36df-497a-a5e4-f7c0b607930a",
   "metadata": {},
   "outputs": [],
   "source": []
  },
  {
   "cell_type": "code",
   "execution_count": null,
   "id": "26232e48-39c3-492e-ae7f-b5ef9fd11630",
   "metadata": {},
   "outputs": [],
   "source": [
    "df_tmp = pd.read_excel(content, sheet_name=target_sheet)\n",
    "df_tmp = df_tmp.fillna('')\n",
    "df_tmp.columns = df_tmp.iloc[0].str.lower().str.strip().str.replace('\\n', ' ') # забираем название полей из файла\n",
    "weight_index = list(df_tmp[df_tmp['фио менеджера'].str.lower()=='вес вопроса'].index)[0] # берем индекс окончания таблицы с данными\n",
    "df_weight = df_tmp.iloc[weight_index:weight_index+1]\n",
    "# df_tmp = df_tmp[df_tmp['дата звонка']!='']"
   ]
  },
  {
   "cell_type": "code",
   "execution_count": null,
   "id": "9b3af2c8-a35a-449e-a99f-5e1ecd5339e4",
   "metadata": {},
   "outputs": [],
   "source": [
    "\n",
    "    content = get_data_from_sheet(df['report_link'][0])\n",
    "    target_sheet_names = pd.ExcelFile(content)\n",
    "    for target_sheet in target_sheet_names.sheet_names:\n",
    "        if 'Чек-лист' in target_sheet:\n",
    "            # final_df = parse_check_list_report(content, target_sheet, name)\n",
    "            tmp_dict[target_sheet] = parse_check_list_report(content, target_sheet, name)"
   ]
  },
  {
   "cell_type": "code",
   "execution_count": null,
   "id": "034b3a57-b964-4a45-b2fd-257910a9b2c8",
   "metadata": {},
   "outputs": [],
   "source": [
    "df_tmp.head()"
   ]
  },
  {
   "cell_type": "code",
   "execution_count": null,
   "id": "479a733e-32c7-43f7-8a1f-41fda00281b2",
   "metadata": {},
   "outputs": [],
   "source": []
  },
  {
   "cell_type": "code",
   "execution_count": null,
   "id": "5863ebe7-8048-4908-b9b6-a08a10bbcc1c",
   "metadata": {},
   "outputs": [],
   "source": []
  },
  {
   "cell_type": "code",
   "execution_count": null,
   "id": "bd117333-30e3-4f3f-82f0-22f34ba7cdb9",
   "metadata": {},
   "outputs": [],
   "source": [
    "for target_sheet in target_sheet_names.sheet_names[:1]:\n",
    "    print(target_sheet)\n",
    "    if 'Чек-лист' in target_sheet:\n",
    "        df_tmp = pd.read_excel(content, sheet_name=target_sheet)\n",
    "        df_tmp = df_tmp.fillna('')\n",
    "        df_tmp.columns = df_tmp.iloc[0].str.lower().str.strip().str.replace('\\n', ' ') # забираем название полей из файла\n",
    "        weight_index = list(df_tmp[df_tmp['фио менеджера'].str.lower()=='вес вопроса'].index)[0] # берем индекс окончания таблицы с данными\n",
    "        start_index = weight_index + 1\n",
    "        df_weight = df_tmp.iloc[weight_index:start_index]\n",
    "        # df_weight = df_tmp.iloc[3:4]\n",
    "        df_tmp = df_tmp[df_tmp['дата звонка']!='']\n",
    "        df_tmp = df_tmp.iloc[start_index:]\n",
    "        df_tmp['дата звонка'] = pd.to_datetime(df_tmp['дата звонка']).dt.date # приводим в формат даты\n",
    "        df_tmp = df_tmp.reset_index(drop=True)\n",
    "        final_df = pd.concat([df_weight, df_tmp])\n",
    "        final_df['client'] = name\n",
    "        final_df['dashboard'] = report\n"
   ]
  },
  {
   "cell_type": "code",
   "execution_count": null,
   "id": "3869d766-04f1-4a6e-a009-ff4e1c270ed1",
   "metadata": {},
   "outputs": [],
   "source": []
  },
  {
   "cell_type": "code",
   "execution_count": null,
   "id": "7f94581f-3346-4d5c-8a16-0fb0424d6fb6",
   "metadata": {},
   "outputs": [],
   "source": []
  },
  {
   "cell_type": "code",
   "execution_count": null,
   "id": "e01f9b46-311a-4cd2-acd1-ed7062c2b351",
   "metadata": {},
   "outputs": [],
   "source": []
  },
  {
   "cell_type": "code",
   "execution_count": null,
   "id": "f1b3257c-a30c-4a4e-ac24-c170cf5b4ec0",
   "metadata": {},
   "outputs": [],
   "source": []
  }
 ],
 "metadata": {
  "kernelspec": {
   "display_name": "Python 3 (ipykernel)",
   "language": "python",
   "name": "python3"
  },
  "language_info": {
   "codemirror_mode": {
    "name": "ipython",
    "version": 3
   },
   "file_extension": ".py",
   "mimetype": "text/x-python",
   "name": "python",
   "nbconvert_exporter": "python",
   "pygments_lexer": "ipython3",
   "version": "3.11.7"
  }
 },
 "nbformat": 4,
 "nbformat_minor": 5
}
