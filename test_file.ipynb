{
 "cells": [
  {
   "cell_type": "code",
   "execution_count": 1,
   "id": "480b1b00-07df-47e8-beed-44aff1ccb41c",
   "metadata": {},
   "outputs": [],
   "source": [
    "import pandas as pd\n",
    "import numpy as np\n",
    "import requests\n",
    "from io import BytesIO\n",
    "import config\n",
    "from parse_functions import *\n",
    "# ссылка на основной файл гугл докс (на каждом лите отдельный клиент со ссылками на файлы с данными)\n",
    "base_link = config.base_link\n"
   ]
  },
  {
   "cell_type": "code",
   "execution_count": 2,
   "id": "a10ba028-f0a3-4fb3-a6aa-5108e017114e",
   "metadata": {},
   "outputs": [],
   "source": [
    "# Включаем отображение всех колонок\n",
    "pd.set_option('display.max_columns', None)\n",
    "# Задаем ширину столбцов по контенту\n",
    "pd.set_option('display.max_colwidth', None)\n",
    "pd.set_option('display.max_rows', None)\n",
    "pd.options.mode.chained_assignment = None"
   ]
  },
  {
   "cell_type": "code",
   "execution_count": 3,
   "id": "69be7637-5dd6-4461-9073-6110fcd6cea4",
   "metadata": {},
   "outputs": [],
   "source": [
    "# забираем данные из основной управленческой таблицы\n",
    "content = get_data_from_sheet(base_link)\n",
    "sheet_names = pd.ExcelFile(content)"
   ]
  },
  {
   "cell_type": "code",
   "execution_count": 4,
   "id": "b6dfc98b-cb3a-4993-90d5-b563b925c5f0",
   "metadata": {},
   "outputs": [
    {
     "data": {
      "text/plain": [
       "['Калининград МореАвто(ЮтоКарс)', 'Екатеринбург АтлантикПРО', 'АвтоБелогорье']"
      ]
     },
     "execution_count": 4,
     "metadata": {},
     "output_type": "execute_result"
    }
   ],
   "source": [
    "sheet_names.sheet_names"
   ]
  },
  {
   "cell_type": "code",
   "execution_count": 5,
   "id": "6ff33b6d-57f7-4d6b-9648-e6052571c036",
   "metadata": {},
   "outputs": [
    {
     "name": "stdout",
     "output_type": "stream",
     "text": [
      "Калининград МореАвто(ЮтоКарс)\n",
      "цели\n"
     ]
    }
   ],
   "source": [
    "for name in sheet_names.sheet_names:\n",
    "   \n",
    "    if 'калининград' in name.lower():\n",
    "        print(name)\n",
    "        cols_range = 'A:B' # задаем диапазон полей, которые нам нужны\n",
    "        df = pd.read_excel(content, sheet_name=name, usecols=cols_range, names=['report_name', 'report_link'])\n",
    "        # нормализуем назания отчетов - приводим в нижний регистр, обрезаем по краям, избаляемся от технических символов(перенос строки и тд)\n",
    "        df['report_name'] = df['report_name'].str.lower().str.strip().str.replace('\\n', ' ')\n",
    "        # создаем отдельный список с названиями отчетов и проодим по нему через цикл\n",
    "        reports_list = list(df['report_name'])\n",
    "        for report in reports_list:\n",
    "            if 'цели' in report.lower():\n",
    "                print(report)\n",
    "                parse_info = df[df['report_name']==report].reset_index(drop=True)"
   ]
  },
  {
   "cell_type": "code",
   "execution_count": 6,
   "id": "04ec35ef-8a53-41fe-9db1-0aa88778c1bc",
   "metadata": {},
   "outputs": [],
   "source": [
    "google_link = parse_info['report_link'][0]"
   ]
  },
  {
   "cell_type": "code",
   "execution_count": 7,
   "id": "a4aff6f7-24b2-4a5c-94f9-33cad3b3eb83",
   "metadata": {},
   "outputs": [],
   "source": [
    " # забираем ссылку на гугл докс, из нее получаем ИД и забираем данные \n",
    "content = get_data_from_sheet(parse_info['report_link'][0])\n",
    "# забираем названия листов в гугл доксе\n",
    "target_sheet_names = pd.ExcelFile(content)"
   ]
  },
  {
   "cell_type": "code",
   "execution_count": 8,
   "id": "ce39b747-0b9c-405f-928e-eed35e1c9194",
   "metadata": {},
   "outputs": [
    {
     "data": {
      "text/plain": [
       "['ОП', 'АП', 'Выкуп', 'Парсинг', 'Справочник']"
      ]
     },
     "execution_count": 8,
     "metadata": {},
     "output_type": "execute_result"
    }
   ],
   "source": [
    "target_sheet_names.sheet_names"
   ]
  },
  {
   "cell_type": "code",
   "execution_count": null,
   "id": "aab78f5f-8b28-4532-af8a-6fc00b150583",
   "metadata": {},
   "outputs": [],
   "source": []
  },
  {
   "cell_type": "code",
   "execution_count": null,
   "id": "fd32742e-ec7a-4c5c-a980-19f9df93f353",
   "metadata": {},
   "outputs": [],
   "source": []
  },
  {
   "cell_type": "code",
   "execution_count": 16,
   "id": "7b010d69-766b-460d-bb95-39b7a35c9ba4",
   "metadata": {},
   "outputs": [
    {
     "name": "stdout",
     "output_type": "stream",
     "text": [
      "ОП\n"
     ]
    }
   ],
   "source": [
    "for target_sheet in target_sheet_names.sheet_names:\n",
    "    if target_sheet.lower() == 'оп':\n",
    "        print(target_sheet)\n",
    "        df_tmp = pd.read_excel(content, sheet_name=target_sheet, header=None)\n",
    "        df_tmp = df_tmp.fillna('')\n",
    "        df_tmp.columns = df_tmp.iloc[0].str.lower().str.strip().str.replace('\\n', ' ') # забираем название полей из файла\n",
    "        df_tmp = df_tmp.iloc[1:]\n",
    "        df_tmp = df_tmp[df_tmp['дата начала']!='']\n",
    "        df_tmp['дата начала'] = pd.to_datetime(df_tmp['дата начала']).dt.date # приводим в формат даты\n",
    "        df_tmp['дата окончания'] = pd.to_datetime(df_tmp['дата окончания']).dt.date # приводим в формат даты\n",
    "        df_tmp = df_tmp.reset_index(drop=True)"
   ]
  },
  {
   "cell_type": "code",
   "execution_count": 12,
   "id": "00436063-9323-44bd-a1b5-c95114ec7371",
   "metadata": {},
   "outputs": [],
   "source": []
  },
  {
   "cell_type": "code",
   "execution_count": 17,
   "id": "f0ba5a51-4d4c-47d2-a97d-4a524fac140e",
   "metadata": {},
   "outputs": [
    {
     "data": {
      "text/html": [
       "<div>\n",
       "<style scoped>\n",
       "    .dataframe tbody tr th:only-of-type {\n",
       "        vertical-align: middle;\n",
       "    }\n",
       "\n",
       "    .dataframe tbody tr th {\n",
       "        vertical-align: top;\n",
       "    }\n",
       "\n",
       "    .dataframe thead th {\n",
       "        text-align: right;\n",
       "    }\n",
       "</style>\n",
       "<table border=\"1\" class=\"dataframe\">\n",
       "  <thead>\n",
       "    <tr style=\"text-align: right;\">\n",
       "      <th></th>\n",
       "      <th>дата начала</th>\n",
       "      <th>дата окончания</th>\n",
       "      <th>название</th>\n",
       "      <th>план</th>\n",
       "    </tr>\n",
       "  </thead>\n",
       "  <tbody>\n",
       "    <tr>\n",
       "      <th>0</th>\n",
       "      <td>2024-09-12</td>\n",
       "      <td>2024-09-18</td>\n",
       "      <td></td>\n",
       "      <td></td>\n",
       "    </tr>\n",
       "    <tr>\n",
       "      <th>1</th>\n",
       "      <td>2024-09-12</td>\n",
       "      <td>2024-09-18</td>\n",
       "      <td></td>\n",
       "      <td></td>\n",
       "    </tr>\n",
       "    <tr>\n",
       "      <th>2</th>\n",
       "      <td>2024-09-12</td>\n",
       "      <td>2024-09-18</td>\n",
       "      <td></td>\n",
       "      <td></td>\n",
       "    </tr>\n",
       "    <tr>\n",
       "      <th>3</th>\n",
       "      <td>2024-09-19</td>\n",
       "      <td>2024-09-25</td>\n",
       "      <td>Менеджер создал срочность (много интересуются, акция)</td>\n",
       "      <td>0.55</td>\n",
       "    </tr>\n",
       "    <tr>\n",
       "      <th>4</th>\n",
       "      <td>2024-09-19</td>\n",
       "      <td>2024-09-25</td>\n",
       "      <td>Менеджер аргументирует возражение клиента</td>\n",
       "      <td>0.7</td>\n",
       "    </tr>\n",
       "  </tbody>\n",
       "</table>\n",
       "</div>"
      ],
      "text/plain": [
       "0 дата начала дата окончания  \\\n",
       "0  2024-09-12     2024-09-18   \n",
       "1  2024-09-12     2024-09-18   \n",
       "2  2024-09-12     2024-09-18   \n",
       "3  2024-09-19     2024-09-25   \n",
       "4  2024-09-19     2024-09-25   \n",
       "\n",
       "0                                               название  план  \n",
       "0                                                               \n",
       "1                                                               \n",
       "2                                                               \n",
       "3  Менеджер создал срочность (много интересуются, акция)  0.55  \n",
       "4              Менеджер аргументирует возражение клиента   0.7  "
      ]
     },
     "execution_count": 17,
     "metadata": {},
     "output_type": "execute_result"
    }
   ],
   "source": [
    "df_tmp.head()"
   ]
  }
 ],
 "metadata": {
  "kernelspec": {
   "display_name": "Python 3 (ipykernel)",
   "language": "python",
   "name": "python3"
  },
  "language_info": {
   "codemirror_mode": {
    "name": "ipython",
    "version": 3
   },
   "file_extension": ".py",
   "mimetype": "text/x-python",
   "name": "python",
   "nbconvert_exporter": "python",
   "pygments_lexer": "ipython3",
   "version": "3.11.7"
  }
 },
 "nbformat": 4,
 "nbformat_minor": 5
}
