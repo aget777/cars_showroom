{
 "cells": [
  {
   "cell_type": "code",
   "execution_count": null,
   "id": "015bc436-bc4c-4316-8298-64982eab5298",
   "metadata": {},
   "outputs": [],
   "source": [
    "import gdown\n",
    "import os\n",
    "\n",
    "path = r'C:\\Users\\o.bogomolov\\Desktop\\Jupyter_notebook\\34_from_google_docs_to_yandex_disk\\test' \n",
    "url = 'https://drive.google.com/drive/folders/1ZqN6hAGaBBZyNdhyFtA1CTZmwOL1vALH?usp=sharing'\n",
    "\n",
    "file_name = \"kaliningrad.zip\"\n",
    "\n",
    "id = '1ZqN6hAGaBBZyNdhyFtA1CTZmwOL1vALH'\n",
    "\n",
    "output = os.path.join(path, file_name)"
   ]
  },
  {
   "cell_type": "code",
   "execution_count": null,
   "id": "811c6f70-eea7-410b-80fa-0826030b6e87",
   "metadata": {},
   "outputs": [],
   "source": [
    "gdown.download(url, output, quiet=False)"
   ]
  },
  {
   "cell_type": "code",
   "execution_count": null,
   "id": "946a12d3-d8a6-4c09-b1fc-6551174f4058",
   "metadata": {},
   "outputs": [],
   "source": [
    "gdown.download(id=id, output=output)"
   ]
  },
  {
   "cell_type": "code",
   "execution_count": null,
   "id": "68b42a5f-cefb-48a9-bdb6-62efe61689ad",
   "metadata": {},
   "outputs": [],
   "source": [
    "!pip install googleDriveFileDownloader"
   ]
  },
  {
   "cell_type": "code",
   "execution_count": null,
   "id": "badfdb8c-c926-4a01-9d7b-59262a061585",
   "metadata": {},
   "outputs": [],
   "source": [
    "from googleDriveFileDownloader import googleDriveFileDownloader\n",
    "a = googleDriveFileDownloader()\n",
    "a.downloadFile(f'https://drive.google.com/uc?id={id}&export=download', output)"
   ]
  },
  {
   "cell_type": "code",
   "execution_count": null,
   "id": "49c96ff8-622f-4488-9aa8-9655eced40a5",
   "metadata": {},
   "outputs": [],
   "source": [
    "class MyHTMLParser(HTMLParser):\n",
    "    def __init__(self):\n",
    "        super().__init__()\n",
    "        self.action = None\n",
    "\n",
    "    def handle_starttag(self, tag, attrs):\n",
    "        if tag == \"form\":\n",
    "            for name, value in attrs:\n",
    "                if name == \"id\" and value == \"download-form\":\n",
    "                    for name, value in attrs:\n",
    "                        if name == \"action\":\n",
    "                            self.action = value"
   ]
  },
  {
   "cell_type": "code",
   "execution_count": null,
   "id": "1af045d5-7ff5-4060-a783-39aab2656d78",
   "metadata": {},
   "outputs": [],
   "source": [
    "import requests\n",
    "from html.parser import HTMLParser"
   ]
  },
  {
   "cell_type": "code",
   "execution_count": null,
   "id": "aa2cc06c-3225-4fa3-afaa-57d0458832b7",
   "metadata": {},
   "outputs": [],
   "source": [
    "DOWNLOAD_URL = 'https://docs.google.com/uc?export=download'\n",
    "session = requests.Session()\n",
    "response = session.get(url, params={'id': id}, stream=True)"
   ]
  },
  {
   "cell_type": "code",
   "execution_count": null,
   "id": "8f9df67f-e175-4a0e-947d-a8bab37949e3",
   "metadata": {},
   "outputs": [],
   "source": [
    "content_type = response.headers['content-type']"
   ]
  },
  {
   "cell_type": "code",
   "execution_count": null,
   "id": "1c44da4f-8a7e-42a2-8d89-fb2c01b21c76",
   "metadata": {},
   "outputs": [],
   "source": [
    "content_type"
   ]
  },
  {
   "cell_type": "code",
   "execution_count": null,
   "id": "cf020e97-f71c-48b1-9f0d-57839202b890",
   "metadata": {},
   "outputs": [],
   "source": [
    "response.text"
   ]
  },
  {
   "cell_type": "code",
   "execution_count": null,
   "id": "a15738f6-16e8-4c07-97f0-d4380bd3fd67",
   "metadata": {},
   "outputs": [],
   "source": [
    "parser = MyHTMLParser()\n",
    "parser.feed(response.text)\n",
    "download_url = parser.action"
   ]
  },
  {
   "cell_type": "code",
   "execution_count": null,
   "id": "776cf35b-34e8-4fe1-9747-61ee0acb300c",
   "metadata": {},
   "outputs": [],
   "source": [
    "response = session.post(download_url, stream=True)"
   ]
  }
 ],
 "metadata": {
  "kernelspec": {
   "display_name": "Python 3 (ipykernel)",
   "language": "python",
   "name": "python3"
  },
  "language_info": {
   "codemirror_mode": {
    "name": "ipython",
    "version": 3
   },
   "file_extension": ".py",
   "mimetype": "text/x-python",
   "name": "python",
   "nbconvert_exporter": "python",
   "pygments_lexer": "ipython3",
   "version": "3.11.7"
  }
 },
 "nbformat": 4,
 "nbformat_minor": 5
}
