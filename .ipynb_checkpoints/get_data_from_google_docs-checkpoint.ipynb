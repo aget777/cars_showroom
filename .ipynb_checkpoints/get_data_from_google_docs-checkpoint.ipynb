{
 "cells": [
  {
   "cell_type": "code",
   "execution_count": 1,
   "id": "295c394e-f719-4867-85ce-530c0e94a276",
   "metadata": {},
   "outputs": [],
   "source": [
    "import pandas as pd\n",
    "import numpy as np\n",
    "import requests\n",
    "from io import BytesIO\n",
    "\n",
    "base_link = 'https://docs.google.com/spreadsheets/d/1Y0cGuXZQ4AUCSlE9t4Nd3APcTsEAg9QcurHEM7_4_d8/edit?usp=sharing'\n",
    "\n",
    "url = 'https://docs.google.com/spreadsheets/export?exportFormat=xlsx&id='"
   ]
  },
  {
   "cell_type": "code",
   "execution_count": 2,
   "id": "57e5fadd-4cd4-4575-a393-e1e3d61bddfa",
   "metadata": {},
   "outputs": [],
   "source": [
    "# Включаем отображение всех колонок\n",
    "pd.set_option('display.max_columns', None)\n",
    "\n",
    "# Задаем ширину столбцов по контенту\n",
    "pd.set_option('display.max_colwidth', None)\n",
    "\n",
    "pd.set_option('display.max_rows', None)\n",
    "\n",
    "pd.options.mode.chained_assignment = None"
   ]
  },
  {
   "cell_type": "code",
   "execution_count": 3,
   "id": "2cbbaaee-cb42-44f1-ac77-bcf6e50c14ad",
   "metadata": {},
   "outputs": [],
   "source": [
    "def get_sheet_id(google_link):\n",
    "    start_index = str(google_link).find('/d/')\n",
    "    end_index = str(google_link).find('/edit?')\n",
    "    spreadsheetId = google_link[start_index+3:end_index]\n",
    "    \n",
    "    return spreadsheetId"
   ]
  },
  {
   "cell_type": "code",
   "execution_count": null,
   "id": "e5e76405-6895-4526-8407-3dedf19c63e1",
   "metadata": {},
   "outputs": [],
   "source": []
  },
  {
   "cell_type": "code",
   "execution_count": 4,
   "id": "7c52578d-580b-4def-bf2e-3044d1259a99",
   "metadata": {},
   "outputs": [],
   "source": [
    "def get_data_from_sheet(base_link):\n",
    "    spreadsheetId = get_sheet_id(base_link)\n",
    "    final_url = url + spreadsheetId\n",
    "    res = requests.get(final_url)\n",
    "    \n",
    "    return BytesIO(res.content)"
   ]
  },
  {
   "cell_type": "code",
   "execution_count": 5,
   "id": "38e36b2b-6c81-4c94-82d1-bc95bf923ddd",
   "metadata": {},
   "outputs": [],
   "source": [
    "def parse_check_list_report(content, target_sheet, name):\n",
    "    \n",
    "    df_tmp = pd.read_excel(content, sheet_name=target_sheet)\n",
    "    df_tmp = df_tmp.fillna('')\n",
    "    df_tmp.columns = df_tmp.iloc[0].str.lower().str.strip().str.replace('\\n', ' ') # забираем название полей из файла\n",
    "    weight_index = list(df_tmp[df_tmp['фио менеджера'].str.lower()=='вес вопроса'].index)[0] # берем индекс окончания таблицы с данными\n",
    "    start_index = weight_index + 1\n",
    "    df_weight = df_tmp.iloc[weight_index:start_index]\n",
    "    # df_weight = df_tmp.iloc[3:4]\n",
    "    df_tmp = df_tmp[df_tmp['дата звонка']!='']\n",
    "    df_tmp = df_tmp.iloc[start_index:]\n",
    "    df_tmp['дата звонка'] = pd.to_datetime(df_tmp['дата звонка']).dt.date # приводим в формат даты\n",
    "    df_tmp = df_tmp.reset_index(drop=True)\n",
    "    final_df = pd.concat([df_weight, df_tmp])\n",
    "    final_df['client'] = name\n",
    "    if 'калининград' in name.lower():\n",
    "        dashboard_name = report\n",
    "    else:\n",
    "        dashboard_name = target_sheet\n",
    "    final_df['dashboard'] = dashboard_name\n",
    "\n",
    "    return final_df"
   ]
  },
  {
   "cell_type": "code",
   "execution_count": 31,
   "id": "7bf4d937-6232-4c15-894f-e419583025d4",
   "metadata": {},
   "outputs": [],
   "source": [
    "def get_parse_reports(df, name, report):\n",
    "    tmp_dict = {}\n",
    "    content = get_data_from_sheet(df['report_link'][0])\n",
    "    target_sheet_names = pd.ExcelFile(content)\n",
    "    for target_sheet in target_sheet_names.sheet_names:\n",
    "        if 'Чек-лист' in target_sheet:\n",
    "            final_df = parse_check_list_report(content, target_sheet, name)\n",
    "            if 'калининград' in name.lower():\n",
    "                tmp_dict[report]= final_df\n",
    "            else:\n",
    "                tmp_dict[target_sheet] = final_df\n",
    "    return tmp_dict"
   ]
  },
  {
   "cell_type": "code",
   "execution_count": 7,
   "id": "baed43fa-8848-47ce-85c5-436202d1316b",
   "metadata": {},
   "outputs": [],
   "source": [
    "content = get_data_from_sheet(base_link)\n",
    "sheet_names = pd.ExcelFile(content)"
   ]
  },
  {
   "cell_type": "code",
   "execution_count": 8,
   "id": "a16b9b17-24ad-4ff8-8a54-5a49aabee544",
   "metadata": {},
   "outputs": [
    {
     "data": {
      "text/plain": [
       "['Калининград МореАвто(ЮтоКарс)', 'Екатеринбург АтлантикПРО', 'АвтоБелогорье']"
      ]
     },
     "execution_count": 8,
     "metadata": {},
     "output_type": "execute_result"
    }
   ],
   "source": [
    "sheet_names.sheet_names"
   ]
  },
  {
   "cell_type": "code",
   "execution_count": 32,
   "id": "c9b9795e-949f-47d6-b435-6ed68e500677",
   "metadata": {},
   "outputs": [
    {
     "name": "stdout",
     "output_type": "stream",
     "text": [
      "Калининград МореАвто(ЮтоКарс)\n",
      "чек-лист калининград ап\n",
      "чек-лист калининград оп\n",
      "чек-лист калининград выкуп\n",
      "чек-лист калининград парсинг\n",
      "Екатеринбург АтлантикПРО\n"
     ]
    }
   ],
   "source": [
    "for name in sheet_names.sheet_names[:2]:\n",
    "    print(name)\n",
    "    tmp_reports_dict = {}\n",
    "    cols_range = 'A:B' # задаем диапазон полей, которые нам нужны\n",
    "    df = pd.read_excel(content, sheet_name=name, usecols=cols_range, names=['report_name', 'report_link'])\n",
    "    df['report_name'] = df['report_name'].str.lower().str.strip().str.replace('\\n', ' ')\n",
    "    \n",
    "    reports_list = list(df['report_name'])\n",
    "    for report in reports_list:\n",
    "        parse_info = df[df['report_name']==report].reset_index(drop=True)\n",
    "\n",
    "        if 'чек' in report.lower():\n",
    "            # if 'калининград' in name.lower():\n",
    "            #     print(report)\n",
    "            #     tmp_reports_dict[report] = get_parse_reports(parse_info, name, report) 'екатеринбург' in name.lower() or \n",
    "            if 'калининград' in name.lower():\n",
    "                print(report)\n",
    "                tmp_reports_dict[report] = get_parse_reports(parse_info, name, report)\n"
   ]
  },
  {
   "cell_type": "code",
   "execution_count": 30,
   "id": "6102556b-6f07-48aa-8e04-0a5b7e0b4a57",
   "metadata": {},
   "outputs": [
    {
     "data": {
      "text/html": [
       "<div>\n",
       "<style scoped>\n",
       "    .dataframe tbody tr th:only-of-type {\n",
       "        vertical-align: middle;\n",
       "    }\n",
       "\n",
       "    .dataframe tbody tr th {\n",
       "        vertical-align: top;\n",
       "    }\n",
       "\n",
       "    .dataframe thead th {\n",
       "        text-align: right;\n",
       "    }\n",
       "</style>\n",
       "<table border=\"1\" class=\"dataframe\">\n",
       "  <thead>\n",
       "    <tr style=\"text-align: right;\">\n",
       "      <th></th>\n",
       "      <th>report_name</th>\n",
       "      <th>report_link</th>\n",
       "    </tr>\n",
       "  </thead>\n",
       "  <tbody>\n",
       "    <tr>\n",
       "      <th>0</th>\n",
       "      <td>чек-лист</td>\n",
       "      <td>https://docs.google.com/spreadsheets/d/1wKHVQgIJFm9jjcURsZcFLmyNzwEeHO988ZjwafW2fbE/edit?usp=drive_link</td>\n",
       "    </tr>\n",
       "    <tr>\n",
       "      <th>1</th>\n",
       "      <td>срм чаты_звонки</td>\n",
       "      <td>https://docs.google.com/spreadsheets/d/1Wmke4n61KTyaer5BlgsAk8L7Bwdagp9hmC1PwD6IIWY/edit?usp=drive_link</td>\n",
       "    </tr>\n",
       "    <tr>\n",
       "      <th>2</th>\n",
       "      <td>цели</td>\n",
       "      <td>https://docs.google.com/spreadsheets/d/1gklvOlb7DWLg47owMgx-7c6-Y8WXp6mqBzJRgP62ZSg/edit?usp=drive_link</td>\n",
       "    </tr>\n",
       "    <tr>\n",
       "      <th>3</th>\n",
       "      <td>сотрудники</td>\n",
       "      <td>https://docs.google.com/spreadsheets/d/1znqwckeyY3OZovxZkELaKenBB8XPUzP3G7ljj-DDnAs/edit?usp=drive_link</td>\n",
       "    </tr>\n",
       "    <tr>\n",
       "      <th>4</th>\n",
       "      <td>срм ап</td>\n",
       "      <td>https://docs.google.com/spreadsheets/d/1QV1x2l5MGLOI9XtaLlmOkSyHXQTiRG9Jb5fyLAOvHGc/edit?usp=drive_link</td>\n",
       "    </tr>\n",
       "    <tr>\n",
       "      <th>5</th>\n",
       "      <td>файлы дашбордов</td>\n",
       "      <td>https://drive.google.com/drive/folders/15uJn1vIl7kIEk41DQ5d9uCBEwcRkPbra?usp=drive_link</td>\n",
       "    </tr>\n",
       "  </tbody>\n",
       "</table>\n",
       "</div>"
      ],
      "text/plain": [
       "       report_name  \\\n",
       "0         чек-лист   \n",
       "1  срм чаты_звонки   \n",
       "2             цели   \n",
       "3       сотрудники   \n",
       "4           срм ап   \n",
       "5  файлы дашбордов   \n",
       "\n",
       "                                                                                               report_link  \n",
       "0  https://docs.google.com/spreadsheets/d/1wKHVQgIJFm9jjcURsZcFLmyNzwEeHO988ZjwafW2fbE/edit?usp=drive_link  \n",
       "1  https://docs.google.com/spreadsheets/d/1Wmke4n61KTyaer5BlgsAk8L7Bwdagp9hmC1PwD6IIWY/edit?usp=drive_link  \n",
       "2  https://docs.google.com/spreadsheets/d/1gklvOlb7DWLg47owMgx-7c6-Y8WXp6mqBzJRgP62ZSg/edit?usp=drive_link  \n",
       "3  https://docs.google.com/spreadsheets/d/1znqwckeyY3OZovxZkELaKenBB8XPUzP3G7ljj-DDnAs/edit?usp=drive_link  \n",
       "4  https://docs.google.com/spreadsheets/d/1QV1x2l5MGLOI9XtaLlmOkSyHXQTiRG9Jb5fyLAOvHGc/edit?usp=drive_link  \n",
       "5                  https://drive.google.com/drive/folders/15uJn1vIl7kIEk41DQ5d9uCBEwcRkPbra?usp=drive_link  "
      ]
     },
     "execution_count": 30,
     "metadata": {},
     "output_type": "execute_result"
    }
   ],
   "source": [
    "df"
   ]
  },
  {
   "cell_type": "code",
   "execution_count": 34,
   "id": "f6060770-2a48-4069-9ed4-e882210454f3",
   "metadata": {},
   "outputs": [
    {
     "data": {
      "text/plain": [
       "{}"
      ]
     },
     "execution_count": 34,
     "metadata": {},
     "output_type": "execute_result"
    }
   ],
   "source": [
    "tmp_reports_dict"
   ]
  },
  {
   "cell_type": "code",
   "execution_count": 33,
   "id": "3b6efe89-5f10-4cd0-b940-32c9f1734020",
   "metadata": {},
   "outputs": [],
   "source": [
    "for key in tmp_reports_dict.keys():\n",
    "    print(key)"
   ]
  },
  {
   "cell_type": "code",
   "execution_count": 13,
   "id": "9ef9ab3a-b0e7-4530-aca7-4ffbcc044f91",
   "metadata": {},
   "outputs": [
    {
     "data": {
      "text/html": [
       "<div>\n",
       "<style scoped>\n",
       "    .dataframe tbody tr th:only-of-type {\n",
       "        vertical-align: middle;\n",
       "    }\n",
       "\n",
       "    .dataframe tbody tr th {\n",
       "        vertical-align: top;\n",
       "    }\n",
       "\n",
       "    .dataframe thead th {\n",
       "        text-align: right;\n",
       "    }\n",
       "</style>\n",
       "<table border=\"1\" class=\"dataframe\">\n",
       "  <thead>\n",
       "    <tr style=\"text-align: right;\">\n",
       "      <th></th>\n",
       "      <th>ссылка  на рабочий лист</th>\n",
       "      <th>ссылка на звонок</th>\n",
       "      <th>автосалон</th>\n",
       "      <th>дата звонка</th>\n",
       "      <th>марка авто</th>\n",
       "      <th>фио менеджера</th>\n",
       "      <th>менеджер представился по имени</th>\n",
       "      <th>менеджер назвал компанию</th>\n",
       "      <th>менеджер уточнил сроки покупки</th>\n",
       "      <th>менеджер предложил traid-in( с выгодой)</th>\n",
       "      <th>менеджер предложил кредит(с выгодой)</th>\n",
       "      <th>менеджер создал срочность (много интересуются, акция)</th>\n",
       "      <th>предложил альтернативу или рассказал о широком ассортименте авто</th>\n",
       "      <th>формат ответа на вопрос о цене</th>\n",
       "      <th>менеджер спросил мнение клиента о предложении</th>\n",
       "      <th>фиксация возражения клиента</th>\n",
       "      <th>менеджер аргументирует возражение клиента</th>\n",
       "      <th>менеджер предложил визит в салон сегодня</th>\n",
       "      <th>менеджер договорился о следующем шаге с клиентом</th>\n",
       "      <th>менеджер рассказал как добраться до салона</th>\n",
       "      <th>менеджер уточнил контактный номер телефона?</th>\n",
       "      <th>менеджер предложил отправить визитку?</th>\n",
       "      <th>оценка звонка</th>\n",
       "      <th>клиент согласился на визит</th>\n",
       "      <th>по сделке стоит актуальная задача</th>\n",
       "      <th>причины, почему не согласился на визит</th>\n",
       "      <th>комментарии</th>\n",
       "      <th>статус</th>\n",
       "      <th>client</th>\n",
       "      <th>dashboard</th>\n",
       "    </tr>\n",
       "  </thead>\n",
       "  <tbody>\n",
       "    <tr>\n",
       "      <th>3</th>\n",
       "      <td></td>\n",
       "      <td></td>\n",
       "      <td></td>\n",
       "      <td></td>\n",
       "      <td></td>\n",
       "      <td>Вес вопроса</td>\n",
       "      <td>0.01</td>\n",
       "      <td>0.01</td>\n",
       "      <td>0.05</td>\n",
       "      <td>0.05</td>\n",
       "      <td>0.05</td>\n",
       "      <td>0.08</td>\n",
       "      <td>0.06</td>\n",
       "      <td>0.1</td>\n",
       "      <td>0.1</td>\n",
       "      <td>да (какое?)/нет</td>\n",
       "      <td>0.1</td>\n",
       "      <td>0.14</td>\n",
       "      <td>0.1</td>\n",
       "      <td>0.05</td>\n",
       "      <td>0.05</td>\n",
       "      <td>0.05</td>\n",
       "      <td>1</td>\n",
       "      <td>да/нет</td>\n",
       "      <td>да/нет</td>\n",
       "      <td></td>\n",
       "      <td></td>\n",
       "      <td></td>\n",
       "      <td>Екатеринбург АтлантикПРО</td>\n",
       "      <td>Чек-лист АП</td>\n",
       "    </tr>\n",
       "    <tr>\n",
       "      <th>0</th>\n",
       "      <td>https://atlantikpro.autocrm.ru/yii/sale/case/view/102128/</td>\n",
       "      <td>https://vpbx000098249b.domru.biz/api/v2/call-records/record/2024-06-21/9bb55888-aa43-41a2-a09f-e0689dcb9763/73432240223_in_2024_06_21-11_55_21_79538237557_675n.mp3</td>\n",
       "      <td>Репина, 13</td>\n",
       "      <td>2024-06-21</td>\n",
       "      <td>SKODA Octavia</td>\n",
       "      <td>Федяшов Артем</td>\n",
       "      <td>0.01</td>\n",
       "      <td>0.01</td>\n",
       "      <td>0</td>\n",
       "      <td>0.05</td>\n",
       "      <td>0.05</td>\n",
       "      <td>0.08</td>\n",
       "      <td>0.06</td>\n",
       "      <td>0.1</td>\n",
       "      <td>0</td>\n",
       "      <td></td>\n",
       "      <td>0</td>\n",
       "      <td>0</td>\n",
       "      <td>0.1</td>\n",
       "      <td>0.05</td>\n",
       "      <td>0.05</td>\n",
       "      <td>0.05</td>\n",
       "      <td>0.61</td>\n",
       "      <td>да</td>\n",
       "      <td>да</td>\n",
       "      <td></td>\n",
       "      <td></td>\n",
       "      <td>Одобрен</td>\n",
       "      <td>Екатеринбург АтлантикПРО</td>\n",
       "      <td>Чек-лист АП</td>\n",
       "    </tr>\n",
       "    <tr>\n",
       "      <th>1</th>\n",
       "      <td>https://atlantikpro.autocrm.ru/yii/sale/case/view/102113/</td>\n",
       "      <td>https://vpbx000098249b.domru.biz/api/v2/call-records/record/2024-06-21/a2e587c2-83db-4e3a-a640-db6a846e3ac9/73432242224_in_2024_06_21-10_43_40_79671431025_72sm.mp3</td>\n",
       "      <td>Таганская, 77</td>\n",
       "      <td>2024-06-21</td>\n",
       "      <td></td>\n",
       "      <td>Шамыков Андрей</td>\n",
       "      <td></td>\n",
       "      <td></td>\n",
       "      <td></td>\n",
       "      <td></td>\n",
       "      <td></td>\n",
       "      <td></td>\n",
       "      <td></td>\n",
       "      <td></td>\n",
       "      <td></td>\n",
       "      <td></td>\n",
       "      <td></td>\n",
       "      <td></td>\n",
       "      <td></td>\n",
       "      <td></td>\n",
       "      <td></td>\n",
       "      <td></td>\n",
       "      <td>0</td>\n",
       "      <td></td>\n",
       "      <td></td>\n",
       "      <td></td>\n",
       "      <td>нет разговора</td>\n",
       "      <td>Удалить</td>\n",
       "      <td>Екатеринбург АтлантикПРО</td>\n",
       "      <td>Чек-лист АП</td>\n",
       "    </tr>\n",
       "  </tbody>\n",
       "</table>\n",
       "</div>"
      ],
      "text/plain": [
       "0                                    ссылка  на рабочий лист  \\\n",
       "3                                                              \n",
       "0  https://atlantikpro.autocrm.ru/yii/sale/case/view/102128/   \n",
       "1  https://atlantikpro.autocrm.ru/yii/sale/case/view/102113/   \n",
       "\n",
       "0                                                                                                                                                     ссылка на звонок  \\\n",
       "3                                                                                                                                                                        \n",
       "0  https://vpbx000098249b.domru.biz/api/v2/call-records/record/2024-06-21/9bb55888-aa43-41a2-a09f-e0689dcb9763/73432240223_in_2024_06_21-11_55_21_79538237557_675n.mp3   \n",
       "1  https://vpbx000098249b.domru.biz/api/v2/call-records/record/2024-06-21/a2e587c2-83db-4e3a-a640-db6a846e3ac9/73432242224_in_2024_06_21-10_43_40_79671431025_72sm.mp3   \n",
       "\n",
       "0      автосалон дата звонка     марка авто   фио менеджера  \\\n",
       "3                                               Вес вопроса   \n",
       "0     Репина, 13  2024-06-21  SKODA Octavia   Федяшов Артем   \n",
       "1  Таганская, 77  2024-06-21                 Шамыков Андрей   \n",
       "\n",
       "0 менеджер представился по имени менеджер назвал компанию  \\\n",
       "3                           0.01                     0.01   \n",
       "0                           0.01                     0.01   \n",
       "1                                                           \n",
       "\n",
       "0 менеджер уточнил сроки покупки менеджер предложил traid-in( с выгодой)  \\\n",
       "3                           0.05                                    0.05   \n",
       "0                              0                                    0.05   \n",
       "1                                                                          \n",
       "\n",
       "0 менеджер предложил кредит(с выгодой)  \\\n",
       "3                                 0.05   \n",
       "0                                 0.05   \n",
       "1                                        \n",
       "\n",
       "0 менеджер создал срочность (много интересуются, акция)  \\\n",
       "3                                                  0.08   \n",
       "0                                                  0.08   \n",
       "1                                                         \n",
       "\n",
       "0 предложил альтернативу или рассказал о широком ассортименте авто  \\\n",
       "3                                                             0.06   \n",
       "0                                                             0.06   \n",
       "1                                                                    \n",
       "\n",
       "0 формат ответа на вопрос о цене  \\\n",
       "3                            0.1   \n",
       "0                            0.1   \n",
       "1                                  \n",
       "\n",
       "0 менеджер спросил мнение клиента о предложении фиксация возражения клиента  \\\n",
       "3                                           0.1             да (какое?)/нет   \n",
       "0                                             0                               \n",
       "1                                                                             \n",
       "\n",
       "0 менеджер аргументирует возражение клиента  \\\n",
       "3                                       0.1   \n",
       "0                                         0   \n",
       "1                                             \n",
       "\n",
       "0 менеджер предложил визит в салон сегодня  \\\n",
       "3                                     0.14   \n",
       "0                                        0   \n",
       "1                                            \n",
       "\n",
       "0 менеджер договорился о следующем шаге с клиентом  \\\n",
       "3                                              0.1   \n",
       "0                                              0.1   \n",
       "1                                                    \n",
       "\n",
       "0 менеджер рассказал как добраться до салона  \\\n",
       "3                                       0.05   \n",
       "0                                       0.05   \n",
       "1                                              \n",
       "\n",
       "0 менеджер уточнил контактный номер телефона?  \\\n",
       "3                                        0.05   \n",
       "0                                        0.05   \n",
       "1                                               \n",
       "\n",
       "0 менеджер предложил отправить визитку? оценка звонка  \\\n",
       "3                                  0.05             1   \n",
       "0                                  0.05          0.61   \n",
       "1                                                   0   \n",
       "\n",
       "0 клиент согласился на визит по сделке стоит актуальная задача  \\\n",
       "3                     да/нет                            да/нет   \n",
       "0                         да                                да   \n",
       "1                                                                \n",
       "\n",
       "0 причины, почему не согласился на визит    комментарии   статус  \\\n",
       "3                                                                  \n",
       "0                                                        Одобрен   \n",
       "1                                         нет разговора  Удалить   \n",
       "\n",
       "0                    client    dashboard  \n",
       "3  Екатеринбург АтлантикПРО  Чек-лист АП  \n",
       "0  Екатеринбург АтлантикПРО  Чек-лист АП  \n",
       "1  Екатеринбург АтлантикПРО  Чек-лист АП  "
      ]
     },
     "execution_count": 13,
     "metadata": {},
     "output_type": "execute_result"
    }
   ],
   "source": [
    "tmp_reports_dict['чек-лист']['Чек-лист АП'].head(3)"
   ]
  },
  {
   "cell_type": "code",
   "execution_count": null,
   "id": "26c318ca-595f-4d82-9bae-ca86798ef04a",
   "metadata": {},
   "outputs": [],
   "source": [
    "tmp_reports_dict['чек-лист']['dashboard'].drop_duplicates()"
   ]
  },
  {
   "cell_type": "code",
   "execution_count": null,
   "id": "6838945b-aed9-48e6-b577-d9eb60238e3c",
   "metadata": {},
   "outputs": [],
   "source": [
    "['чек-лист калининград ап', 'чек-лист калининград оп', 'чек-лист калининград выкуп', 'чек-лист калининград парсинг']"
   ]
  },
  {
   "cell_type": "code",
   "execution_count": null,
   "id": "d17ce573-b692-434c-acad-36e1c197c4f9",
   "metadata": {},
   "outputs": [],
   "source": [
    "tmp_reports_dict['чек-лист'][tmp_reports_dict['чек-лист']['dashboard']=='Чек-лист АП'].head(3)"
   ]
  },
  {
   "cell_type": "code",
   "execution_count": null,
   "id": "c2043f2e-78b8-437f-8176-bff2510e7ef0",
   "metadata": {},
   "outputs": [],
   "source": []
  },
  {
   "cell_type": "code",
   "execution_count": null,
   "id": "f9d69b0e-8e27-4392-9d8f-cc4640ef087a",
   "metadata": {},
   "outputs": [],
   "source": [
    "df.head(2)"
   ]
  },
  {
   "cell_type": "code",
   "execution_count": null,
   "id": "a3eca7c0-bde4-40a1-9c9b-2d3575918671",
   "metadata": {},
   "outputs": [],
   "source": [
    "df['report_link'][0]"
   ]
  },
  {
   "cell_type": "code",
   "execution_count": 35,
   "id": "65d0b927-03ba-4dcf-b789-943cf352beda",
   "metadata": {},
   "outputs": [],
   "source": [
    "google_link = df['report_link'][0]"
   ]
  },
  {
   "cell_type": "code",
   "execution_count": 36,
   "id": "409b2693-5320-4c41-bbf5-543b4e611ade",
   "metadata": {},
   "outputs": [],
   "source": [
    "start_index = str(google_link).find('/d/')\n",
    "end_index = str(google_link).find('/edit?')\n",
    "spreadsheetId = google_link[start_index+3:end_index]"
   ]
  },
  {
   "cell_type": "code",
   "execution_count": null,
   "id": "c48ab408-b6e0-4a39-b26a-61d30f9d06eb",
   "metadata": {},
   "outputs": [],
   "source": [
    "content"
   ]
  },
  {
   "cell_type": "code",
   "execution_count": 37,
   "id": "679cd3f5-447b-401e-89e7-179401eee08f",
   "metadata": {},
   "outputs": [],
   "source": [
    "final_url = url + spreadsheetId\n",
    "res = requests.get(final_url)"
   ]
  },
  {
   "cell_type": "code",
   "execution_count": 38,
   "id": "2b674161-4965-490c-922b-c7cd15a36d0c",
   "metadata": {},
   "outputs": [],
   "source": [
    "content = BytesIO(res.content)"
   ]
  },
  {
   "cell_type": "code",
   "execution_count": null,
   "id": "251a3cef-9b4d-4906-8072-6bd50b62816c",
   "metadata": {},
   "outputs": [],
   "source": []
  },
  {
   "cell_type": "code",
   "execution_count": 39,
   "id": "eda46900-4877-49b0-a967-5f06a6450fe2",
   "metadata": {},
   "outputs": [],
   "source": [
    "sheet_names = pd.ExcelFile(content)"
   ]
  },
  {
   "cell_type": "code",
   "execution_count": 40,
   "id": "2e3a1625-ef2c-44ac-9867-24e9c3d2b0fe",
   "metadata": {},
   "outputs": [
    {
     "data": {
      "text/plain": [
       "['Чек-лист АП',\n",
       " 'Чек-лист Чаты-Звонки',\n",
       " 'Чек-лист Комиссия',\n",
       " 'Чек-лист Чаты',\n",
       " 'Учет_лидов',\n",
       " 'Критерии Оценки']"
      ]
     },
     "execution_count": 40,
     "metadata": {},
     "output_type": "execute_result"
    }
   ],
   "source": [
    "sheet_names.sheet_names"
   ]
  },
  {
   "cell_type": "code",
   "execution_count": null,
   "id": "a35dd354-019e-42a3-9f60-7caeaa985291",
   "metadata": {},
   "outputs": [],
   "source": [
    "spreadsheetId"
   ]
  },
  {
   "cell_type": "code",
   "execution_count": 44,
   "id": "da5a1852-f92c-4091-ab63-317eaa8db862",
   "metadata": {},
   "outputs": [],
   "source": [
    "target_sheet_names = pd.ExcelFile(content)"
   ]
  },
  {
   "cell_type": "code",
   "execution_count": 46,
   "id": "f0b78698-0127-4b05-9152-d26f0b0a8482",
   "metadata": {},
   "outputs": [
    {
     "name": "stdout",
     "output_type": "stream",
     "text": [
      "Чек-лист АП\n",
      "Чек-лист Чаты-Звонки\n",
      "Чек-лист Комиссия\n",
      "Чек-лист Чаты\n"
     ]
    }
   ],
   "source": [
    "for target_sheet in target_sheet_names.sheet_names:\n",
    "        if 'Чек-лист' in target_sheet:\n",
    "            print(target_sheet)\n",
    "            if target_sheet=='Чек-лист АП':\n",
    "                final_df = parse_check_list_report(content, target_sheet, name)"
   ]
  },
  {
   "cell_type": "code",
   "execution_count": null,
   "id": "fd7c3393-36df-497a-a5e4-f7c0b607930a",
   "metadata": {},
   "outputs": [],
   "source": []
  },
  {
   "cell_type": "code",
   "execution_count": null,
   "id": "26232e48-39c3-492e-ae7f-b5ef9fd11630",
   "metadata": {},
   "outputs": [],
   "source": [
    "df_tmp = pd.read_excel(content, sheet_name=target_sheet)\n",
    "df_tmp = df_tmp.fillna('')\n",
    "df_tmp.columns = df_tmp.iloc[0].str.lower().str.strip().str.replace('\\n', ' ') # забираем название полей из файла\n",
    "weight_index = list(df_tmp[df_tmp['фио менеджера'].str.lower()=='вес вопроса'].index)[0] # берем индекс окончания таблицы с данными\n",
    "df_weight = df_tmp.iloc[weight_index:weight_index+1]\n",
    "# df_tmp = df_tmp[df_tmp['дата звонка']!='']"
   ]
  },
  {
   "cell_type": "code",
   "execution_count": null,
   "id": "9b3af2c8-a35a-449e-a99f-5e1ecd5339e4",
   "metadata": {},
   "outputs": [],
   "source": [
    "df_weight"
   ]
  },
  {
   "cell_type": "code",
   "execution_count": null,
   "id": "034b3a57-b964-4a45-b2fd-257910a9b2c8",
   "metadata": {},
   "outputs": [],
   "source": [
    "df_tmp.head()"
   ]
  },
  {
   "cell_type": "code",
   "execution_count": null,
   "id": "479a733e-32c7-43f7-8a1f-41fda00281b2",
   "metadata": {},
   "outputs": [],
   "source": []
  },
  {
   "cell_type": "code",
   "execution_count": null,
   "id": "5863ebe7-8048-4908-b9b6-a08a10bbcc1c",
   "metadata": {},
   "outputs": [],
   "source": []
  },
  {
   "cell_type": "code",
   "execution_count": null,
   "id": "bd117333-30e3-4f3f-82f0-22f34ba7cdb9",
   "metadata": {},
   "outputs": [],
   "source": [
    "for target_sheet in target_sheet_names.sheet_names[:1]:\n",
    "    print(target_sheet)\n",
    "    if 'Чек-лист' in target_sheet:\n",
    "        df_tmp = pd.read_excel(content, sheet_name=target_sheet)\n",
    "        df_tmp = df_tmp.fillna('')\n",
    "        df_tmp.columns = df_tmp.iloc[0].str.lower().str.strip().str.replace('\\n', ' ') # забираем название полей из файла\n",
    "        weight_index = list(df_tmp[df_tmp['фио менеджера'].str.lower()=='вес вопроса'].index)[0] # берем индекс окончания таблицы с данными\n",
    "        start_index = weight_index + 1\n",
    "        df_weight = df_tmp.iloc[weight_index:start_index]\n",
    "        # df_weight = df_tmp.iloc[3:4]\n",
    "        df_tmp = df_tmp[df_tmp['дата звонка']!='']\n",
    "        df_tmp = df_tmp.iloc[start_index:]\n",
    "        df_tmp['дата звонка'] = pd.to_datetime(df_tmp['дата звонка']).dt.date # приводим в формат даты\n",
    "        df_tmp = df_tmp.reset_index(drop=True)\n",
    "        final_df = pd.concat([df_weight, df_tmp])\n",
    "        final_df['client'] = name\n",
    "        final_df['dashboard'] = report\n"
   ]
  },
  {
   "cell_type": "code",
   "execution_count": null,
   "id": "3869d766-04f1-4a6e-a009-ff4e1c270ed1",
   "metadata": {},
   "outputs": [],
   "source": []
  },
  {
   "cell_type": "code",
   "execution_count": null,
   "id": "7f94581f-3346-4d5c-8a16-0fb0424d6fb6",
   "metadata": {},
   "outputs": [],
   "source": []
  },
  {
   "cell_type": "code",
   "execution_count": null,
   "id": "e01f9b46-311a-4cd2-acd1-ed7062c2b351",
   "metadata": {},
   "outputs": [],
   "source": []
  },
  {
   "cell_type": "code",
   "execution_count": null,
   "id": "f1b3257c-a30c-4a4e-ac24-c170cf5b4ec0",
   "metadata": {},
   "outputs": [],
   "source": []
  }
 ],
 "metadata": {
  "kernelspec": {
   "display_name": "Python 3 (ipykernel)",
   "language": "python",
   "name": "python3"
  },
  "language_info": {
   "codemirror_mode": {
    "name": "ipython",
    "version": 3
   },
   "file_extension": ".py",
   "mimetype": "text/x-python",
   "name": "python",
   "nbconvert_exporter": "python",
   "pygments_lexer": "ipython3",
   "version": "3.11.7"
  }
 },
 "nbformat": 4,
 "nbformat_minor": 5
}
