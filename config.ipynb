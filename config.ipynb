{
 "cells": [
  {
   "cell_type": "code",
   "execution_count": 1,
   "id": "62efaa05-cec0-4a80-999a-78d0c71b449c",
   "metadata": {},
   "outputs": [],
   "source": [
    "# стандартный УРЛ от гугла, в который нужно подставить ИД файла для скачивания\n",
    "url = 'https://docs.google.com/spreadsheets/export?exportFormat=xlsx&id='\n",
    "\n",
    "# ссылка на основной файл гугл докс (на каждом лите отдельный клиент со ссылками на файлы с данными)\n",
    "base_link = 'https://docs.google.com/spreadsheets/d/1Y0cGuXZQ4AUCSlE9t4Nd3APcTsEAg9QcurHEM7_4_d8/edit?usp=sharing'"
   ]
  }
 ],
 "metadata": {
  "kernelspec": {
   "display_name": "Python 3 (ipykernel)",
   "language": "python",
   "name": "python3"
  },
  "language_info": {
   "codemirror_mode": {
    "name": "ipython",
    "version": 3
   },
   "file_extension": ".py",
   "mimetype": "text/x-python",
   "name": "python",
   "nbconvert_exporter": "python",
   "pygments_lexer": "ipython3",
   "version": "3.11.7"
  }
 },
 "nbformat": 4,
 "nbformat_minor": 5
}
